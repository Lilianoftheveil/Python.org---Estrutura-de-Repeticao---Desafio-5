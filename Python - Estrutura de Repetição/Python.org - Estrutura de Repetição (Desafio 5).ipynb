{
 "cells": [
  {
   "cell_type": "code",
   "execution_count": null,
   "id": "f704985c",
   "metadata": {},
   "outputs": [],
   "source": [
    "Python - Lista de Exercícios (Estrutura de Repetição) \n",
    "link: https://wiki.python.org.br/EstruturaDeRepeticao"
   ]
  },
  {
   "cell_type": "markdown",
   "id": "0788cfd9",
   "metadata": {},
   "source": [
    "5) Altere o programa anterior permitindo ao usuário informar as populações e as taxas de crescimento iniciais. Valide a entrada e permita repetir a operação."
   ]
  },
  {
   "cell_type": "code",
   "execution_count": null,
   "id": "eb6d47b6",
   "metadata": {},
   "outputs": [],
   "source": [
    "while True:\n",
    "  a = input(\"População A: \")\n",
    "  a1 = input(\"Taxa Anual de Crescimento da População A: \")\n",
    "  b = input(\"População B: \")\n",
    "  b1= input(\"Taxa Anual de Crescimento da População B: \")\n",
    "  c = 0\n",
    "  try:\n",
    "    float(a), float(a1), float(b), float(b1)\n",
    "    if float(a) < float(b):\n",
    "      while float(a) < float(b):\n",
    "        b = round(float(b) + (float(b) * (float(b1) / 100)), 2)\n",
    "        a = round(float(a) + (float(a) * (float(a1) / 100)), 2)\n",
    "        c = c + 1\n",
    "    elif float(b) < float(a):\n",
    "      while float(b) < float(a):\n",
    "        a = round(float(a) + (float(a) * (float(a1) / 100)), 2)\n",
    "        b = round(float(b) + (float(b) * (float(b1) / 100)), 2)\n",
    "        c = c + 1\n",
    "    else:\n",
    "      print(\"Ambas as populações possuem a mesma quantidade de habitantes.\")\n",
    "      break\n",
    "  except:\n",
    "    print(\"Por favor, digite apenas números.\")\n",
    "    continue\n",
    "  print(f\"Após {c} anos o país com menor número de habitantes ultrapassará o maior.\")\n",
    "  r = input(\"Deseja repetir a operação? (S)Sim / (N)Não \").upper()\n",
    "  if r == \"S\":\n",
    "    continue\n",
    "  else:\n",
    "    break\n",
    "  break"
   ]
  }
 ],
 "metadata": {
  "kernelspec": {
   "display_name": "Python 3 (ipykernel)",
   "language": "python",
   "name": "python3"
  },
  "language_info": {
   "codemirror_mode": {
    "name": "ipython",
    "version": 3
   },
   "file_extension": ".py",
   "mimetype": "text/x-python",
   "name": "python",
   "nbconvert_exporter": "python",
   "pygments_lexer": "ipython3",
   "version": "3.8.10"
  }
 },
 "nbformat": 4,
 "nbformat_minor": 5
}
